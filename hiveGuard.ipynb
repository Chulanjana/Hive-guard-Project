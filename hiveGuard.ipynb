{
 "cells": [
  {
   "cell_type": "code",
   "execution_count": 41,
   "id": "da692cdd",
   "metadata": {},
   "outputs": [],
   "source": [
    "import joblib\n",
    "import numpy as np\n",
    "import pandas as pd\n",
    "import librosa\n",
    "import os\n"
   ]
  },
  {
   "cell_type": "code",
   "execution_count": 42,
   "id": "55d8377d",
   "metadata": {},
   "outputs": [],
   "source": [
    "model_queen_presence=joblib.load(\"queen_presence_model.pkl\")\n",
    "model_anomaly = joblib.load(\"bee_sound_anomaly_model.pkl\")\n",
    "model_queen_acceptance = joblib.load('queen_acceptance_rf_model.joblib')\n"
   ]
  },
  {
   "cell_type": "code",
   "execution_count": 43,
   "id": "200dbac4",
   "metadata": {},
   "outputs": [],
   "source": [
    "# def extract_audio_features(file_path, n_mfcc=13):\n",
    "#     y, sr = librosa.load(file_path, sr=22050)\n",
    "#     mfccs = librosa.feature.mfcc(y=y, sr=sr, n_mfcc=n_mfcc)\n",
    "#     mfccs_mean = np.mean(mfccs.T, axis=0)\n",
    "#     return mfccs_mean\n",
    "\n",
    "# mfcc_features = extract_audio_features(audio_path, n_mfcc=13)"
   ]
  },
  {
   "cell_type": "code",
   "execution_count": 44,
   "id": "a459e45e",
   "metadata": {},
   "outputs": [],
   "source": [
    "import librosa\n",
    "import soundfile as sf\n",
    "import pyaudio\n",
    "import numpy as np\n",
    "import tempfile\n",
    "import os\n",
    "\n",
    "\n",
    "def record_audio_and_extract_mfcc(sr,duration=10):\n",
    "    CHUNK = 1024\n",
    "    FORMAT = pyaudio.paInt16\n",
    "    CHANNELS = 1\n",
    "\n",
    "    p = pyaudio.PyAudio()\n",
    "    stream = p.open(\n",
    "        format=FORMAT, channels=CHANNELS, rate=sr, input=True, frames_per_buffer=CHUNK\n",
    "    )\n",
    "\n",
    "    print(\"Recording...\")\n",
    "    frames = []\n",
    "    for _ in range(0, int(sr / CHUNK * duration)):\n",
    "        data = stream.read(CHUNK, exception_on_overflow=False)\n",
    "        frames.append(data)\n",
    "\n",
    "    stream.stop_stream()\n",
    "    stream.close()\n",
    "    p.terminate()\n",
    "\n",
    "    print(\"Recording complete.\")\n",
    "\n",
    "    audio_bytes = b\"\".join(frames)\n",
    "    audio_np = np.frombuffer(audio_bytes, dtype=np.int16).astype(np.float32)\n",
    "    max_val = np.max(np.abs(audio_np))\n",
    "    if max_val > 0:\n",
    "        audio_np /= max_val  # Normalize\n",
    "\n",
    "    # Save temporarily with delete=False\n",
    "    with tempfile.NamedTemporaryFile(suffix=\".wav\", delete=False) as tmp:\n",
    "        tmp_name = tmp.name\n",
    "        sf.write(tmp_name, audio_np, sr)\n",
    "\n",
    "    # Now load with librosa\n",
    "    y, _ = librosa.load(tmp_name, sr=sr)\n",
    "    mfccs = librosa.feature.mfcc(y=y, sr=sr, n_mfcc=13)\n",
    "    mfccs_mean = np.mean(mfccs.T, axis=0)\n",
    "\n",
    "    # Clean up the temporary file manually\n",
    "    os.remove(tmp_name)\n",
    "\n",
    "    return mfccs_mean\n"
   ]
  },
  {
   "cell_type": "code",
   "execution_count": 45,
   "id": "f9af23e1",
   "metadata": {},
   "outputs": [],
   "source": [
    "# 0,0\n",
    "\n",
    "audio_path = r\"D:\\AIDS\\3rd year\\sem2\\Bee Hive Condition Projecct\\archive\\sound_files\\split_audio\\2022-06-25--15-04-12_1__segment1_part2.wav\"\n",
    "hive_temp = 22\n",
    "hive_humidity = 49\n",
    "weather_temp = 18\n",
    "weather_humidity = 67"
   ]
  },
  {
   "cell_type": "code",
   "execution_count": 46,
   "id": "417a8e58",
   "metadata": {},
   "outputs": [],
   "source": [
    "# # 0,0\n",
    "\n",
    "# audio_path = r\"D:\\AIDS\\3rd year\\sem2\\Bee Hive Condition Projecct\\archive\\sound_files\\split_audio\\2022-06-25--15-04-12_1__segment1_part2.wav\"\n",
    "# hive_temp = 34\n",
    "# hive_humidity = 33\n",
    "# weather_temp = 30\n",
    "# weather_humidity = 37\n",
    "\n",
    "\n",
    "# # audio_path = input(\"Enter the full path of the audio clip (.wav): \").strip('\"')\n",
    "# # hive_temp = float(input(\"Enter hive temperature: \"))\n",
    "# # hive_humidity = float(input(\"Enter hive humidity: \"))\n",
    "# # weather_temp = float(input(\"Enter weather temperature: \"))\n",
    "# # weather_humidity = float(input(\"Enter weather humidity: \"))"
   ]
  },
  {
   "cell_type": "code",
   "execution_count": 54,
   "id": "19588002",
   "metadata": {},
   "outputs": [],
   "source": [
    "audio_path = r\"D:\\AIDS\\3rd year\\sem2\\Bee Hive Condition Projecct\\archive\\sound_files\\split_audio\\2022-06-25--15-04-12_1__segment2_part4.wav\"\n",
    "hive_temp = 34\n",
    "hive_humidity = 33\n",
    "weather_temp = 30\n",
    "weather_humidity = 37"
   ]
  },
  {
   "cell_type": "code",
   "execution_count": 55,
   "id": "fca11f9f",
   "metadata": {},
   "outputs": [
    {
     "name": "stdout",
     "output_type": "stream",
     "text": [
      "Recording for 10 seconds...\n",
      "Recording saved as recorded_audio.wav\n",
      "Extracted MFCC features: [-594.3562      85.34025    -10.010674   -13.021552    -3.703562\n",
      "   -2.2824492   -9.435291    -4.748137    -8.6276245   -8.345287\n",
      "  -13.361113    -9.478984    -8.010074 ]\n"
     ]
    }
   ],
   "source": [
    "import sounddevice as sd\n",
    "import numpy as np\n",
    "import scipy.io.wavfile as wav\n",
    "import librosa\n",
    "\n",
    "def extract_audio_features(file_path, n_mfcc=13):\n",
    "    y, sr = librosa.load(file_path, sr=22050)\n",
    "    mfccs = librosa.feature.mfcc(y=y, sr=sr, n_mfcc=n_mfcc)\n",
    "    mfccs_mean = np.mean(mfccs.T, axis=0)\n",
    "    return mfccs_mean\n",
    "\n",
    "def record_and_extract_mfcc(duration=10, sample_rate=22050, file_name=\"recorded_audio.wav\", n_mfcc=13):\n",
    "    print(f\"Recording for {duration} seconds...\")\n",
    "    audio = sd.rec(int(duration * sample_rate), samplerate=sample_rate, channels=1, dtype='int16')\n",
    "    sd.wait()\n",
    "    wav.write(file_name, sample_rate, audio)\n",
    "    print(f\"Recording saved as {file_name}\")\n",
    "    \n",
    "    mfcc_features = extract_audio_features(file_name, n_mfcc=n_mfcc)\n",
    "    return mfcc_features\n",
    "\n",
    "# Example usage:\n",
    "mfcc = record_and_extract_mfcc()\n",
    "print(\"Extracted MFCC features:\", mfcc)"
   ]
  },
  {
   "cell_type": "code",
   "execution_count": 56,
   "id": "2aeac229",
   "metadata": {},
   "outputs": [],
   "source": [
    "def extract_audio_features(file_path, n_mfcc=13):\n",
    "    y, sr = librosa.load(file_path, sr=22050)\n",
    "    mfccs = librosa.feature.mfcc(y=y, sr=sr, n_mfcc=n_mfcc)\n",
    "    mfccs_mean = np.mean(mfccs.T, axis=0)\n",
    "    return mfccs_mean\n",
    "\n",
    "mfcc_features = extract_audio_features(audio_path, n_mfcc=13)\n",
    "# mfcc_features = record_audio_and_extract_mfcc(22050, duration=10)\n",
    "# mfcc_features = record_and_extract_mfcc()\n",
    "\n",
    "mfcc_names = [f\"mfcc_{i+1}\" for i in range(len(mfcc_features))]\n",
    "all_features = np.concatenate(([hive_temp, hive_humidity, weather_temp, weather_humidity], mfcc_features))\n",
    "all_feature_names = [\"hive temp\", \"hive humidity\", \"weather temp\", \"weather humidity\"] + mfcc_names\n",
    "input_df = pd.DataFrame([all_features], columns=all_feature_names)"
   ]
  },
  {
   "cell_type": "code",
   "execution_count": 57,
   "id": "1e51c6a4",
   "metadata": {},
   "outputs": [
    {
     "data": {
      "text/plain": [
       "array([-282.03088  ,  164.14893  ,  -15.368212 ,   62.181347 ,\n",
       "        -25.451149 ,   36.745518 ,  -14.543886 ,   16.210735 ,\n",
       "         -7.420808 ,    0.9244495,    4.5058665,  -11.407895 ,\n",
       "         10.53649  ], dtype=float32)"
      ]
     },
     "execution_count": 57,
     "metadata": {},
     "output_type": "execute_result"
    }
   ],
   "source": [
    "mfcc_features"
   ]
  },
  {
   "cell_type": "code",
   "execution_count": 58,
   "id": "65d9787f",
   "metadata": {},
   "outputs": [
    {
     "name": "stdout",
     "output_type": "stream",
     "text": [
      "\n",
      "🧠 Predictions:\n",
      "🐝 Queen Presence: No\n"
     ]
    }
   ],
   "source": [
    "pred_qp = model_queen_presence.predict(input_df)[0]\n",
    "\n",
    "# === OUTPUT ===\n",
    "print(\"\\n🧠 Predictions:\")\n",
    "print(f\"🐝 Queen Presence: {'Yes' if pred_qp == 1 else 'No'}\")"
   ]
  },
  {
   "cell_type": "code",
   "execution_count": 59,
   "id": "7e9522b4",
   "metadata": {},
   "outputs": [],
   "source": [
    "if pred_qp==1:\n",
    "    # randome forest model\n",
    "    predictions = model_queen_acceptance.predict(input_df)\n",
    "\n",
    "    print(\"Predicted Queen Acceptance:\", predictions[0])"
   ]
  },
  {
   "cell_type": "code",
   "execution_count": 60,
   "id": "49db8b79",
   "metadata": {},
   "outputs": [
    {
     "name": "stdout",
     "output_type": "stream",
     "text": [
      "🚨 Anomaly Detected in Sound: No\n"
     ]
    }
   ],
   "source": [
    "pred_anomaly = model_anomaly.predict(input_df)[0] \n",
    "if weather_temp >= 45 or hive_temp >= 45:\n",
    "    pred_anomaly=\"Temp Rising\"\n",
    "    print(f\"🚨 Anomaly Detected in Sound: anomaly\")\n",
    "\n",
    "else:\n",
    "    print(f\"🚨 Anomaly Detected in Sound: {'Yes' if pred_anomaly == -1 else 'No'}\")\n"
   ]
  },
  {
   "cell_type": "code",
   "execution_count": 61,
   "id": "5895af49",
   "metadata": {},
   "outputs": [
    {
     "name": "stdout",
     "output_type": "stream",
     "text": [
      "🚨 Anomaly Detected in Sound: No\n"
     ]
    }
   ],
   "source": [
    "print(f\"🚨 Anomaly Detected in Sound: {'Yes' if pred_anomaly == -1 else 'No'}\")"
   ]
  },
  {
   "cell_type": "code",
   "execution_count": null,
   "id": "973eee6e",
   "metadata": {},
   "outputs": [],
   "source": []
  }
 ],
 "metadata": {
  "kernelspec": {
   "display_name": "installingrasa",
   "language": "python",
   "name": "python3"
  },
  "language_info": {
   "codemirror_mode": {
    "name": "ipython",
    "version": 3
   },
   "file_extension": ".py",
   "mimetype": "text/x-python",
   "name": "python",
   "nbconvert_exporter": "python",
   "pygments_lexer": "ipython3",
   "version": "3.10.13"
  }
 },
 "nbformat": 4,
 "nbformat_minor": 5
}
