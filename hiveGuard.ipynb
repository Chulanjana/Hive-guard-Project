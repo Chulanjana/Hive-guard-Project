{
 "cells": [
  {
   "cell_type": "code",
   "execution_count": 1,
   "id": "da692cdd",
   "metadata": {},
   "outputs": [],
   "source": [
    "import joblib\n",
    "import numpy as np\n",
    "import pandas as pd\n",
    "import librosa\n",
    "import os\n"
   ]
  },
  {
   "cell_type": "code",
   "execution_count": 2,
   "id": "55d8377d",
   "metadata": {},
   "outputs": [],
   "source": [
    "model_queen_presence=joblib.load(\"queen_presence_model.pkl\")\n",
    "model_anomaly = joblib.load(\"bee_sound_anomaly_model.pkl\")\n",
    "model_queen_acceptance = joblib.load('queen_acceptance_rf_model.joblib')\n"
   ]
  },
  {
   "cell_type": "code",
   "execution_count": 9,
   "id": "417a8e58",
   "metadata": {},
   "outputs": [],
   "source": [
    "audio_path = r\"D:\\AIDS\\3rd year\\sem2\\Bee Hive Condition Projecct\\archive\\sound_files\\split_audio\\2022-06-10--00-44-04_1__segment0_part1.wav\"\n",
    "hive_temp = 37\n",
    "hive_humidity = 36\n",
    "weather_temp = 17\n",
    "weather_humidity = 69\n",
    "\n",
    "\n",
    "# audio_path = input(\"Enter the full path of the audio clip (.wav): \").strip('\"')\n",
    "# hive_temp = float(input(\"Enter hive temperature: \"))\n",
    "# hive_humidity = float(input(\"Enter hive humidity: \"))\n",
    "# weather_temp = float(input(\"Enter weather temperature: \"))\n",
    "# weather_humidity = float(input(\"Enter weather humidity: \"))"
   ]
  },
  {
   "cell_type": "code",
   "execution_count": 10,
   "id": "2aeac229",
   "metadata": {},
   "outputs": [],
   "source": [
    "def extract_audio_features(file_path, n_mfcc=13):\n",
    "    y, sr = librosa.load(file_path, sr=22050)\n",
    "    mfccs = librosa.feature.mfcc(y=y, sr=sr, n_mfcc=n_mfcc)\n",
    "    mfccs_mean = np.mean(mfccs.T, axis=0)\n",
    "    return mfccs_mean\n",
    "\n",
    "mfcc_features = extract_audio_features(audio_path)\n",
    "mfcc_names = [f\"mfcc_{i+1}\" for i in range(len(mfcc_features))]\n",
    "all_features = np.concatenate(([hive_temp, hive_humidity, weather_temp, weather_humidity], mfcc_features))\n",
    "all_feature_names = [\"hive temp\", \"hive humidity\", \"weather temp\", \"weather humidity\"] + mfcc_names\n",
    "input_df = pd.DataFrame([all_features], columns=all_feature_names)"
   ]
  },
  {
   "cell_type": "code",
   "execution_count": 11,
   "id": "65d9787f",
   "metadata": {},
   "outputs": [
    {
     "name": "stdout",
     "output_type": "stream",
     "text": [
      "\n",
      "🧠 Predictions:\n",
      "🐝 Queen Presence: Yes\n"
     ]
    }
   ],
   "source": [
    "pred_qp = model_queen_presence.predict(input_df)[0]\n",
    "\n",
    "# === OUTPUT ===\n",
    "print(\"\\n🧠 Predictions:\")\n",
    "print(f\"🐝 Queen Presence: {'Yes' if pred_qp == 1 else 'No'}\")"
   ]
  },
  {
   "cell_type": "code",
   "execution_count": 6,
   "id": "7e9522b4",
   "metadata": {},
   "outputs": [
    {
     "name": "stdout",
     "output_type": "stream",
     "text": [
      "Predicted Queen Acceptance: 1\n"
     ]
    }
   ],
   "source": [
    "if pred_qp==1:\n",
    "    # randome forest model\n",
    "    predictions = model_queen_acceptance.predict(input_df)\n",
    "\n",
    "    print(\"Predicted Queen Acceptance:\", predictions[0])"
   ]
  },
  {
   "cell_type": "code",
   "execution_count": 7,
   "id": "49db8b79",
   "metadata": {},
   "outputs": [
    {
     "name": "stdout",
     "output_type": "stream",
     "text": [
      "🚨 Anomaly Detected in Sound: No\n"
     ]
    }
   ],
   "source": [
    "pred_anomaly = model_anomaly.predict(input_df)[0] \n",
    "if weather_temp >= 45 or hive_temp >= 45:\n",
    "    pred_anomaly=\"Temp Rising\"\n",
    "    print(f\"🚨 Anomaly Detected in Sound: anomaly\")\n",
    "\n",
    "else:\n",
    "    print(f\"🚨 Anomaly Detected in Sound: {'Yes' if pred_anomaly == -1 else 'No'}\")\n"
   ]
  },
  {
   "cell_type": "code",
   "execution_count": 8,
   "id": "5895af49",
   "metadata": {},
   "outputs": [
    {
     "name": "stdout",
     "output_type": "stream",
     "text": [
      "🚨 Anomaly Detected in Sound: No\n"
     ]
    }
   ],
   "source": [
    "print(f\"🚨 Anomaly Detected in Sound: {'Yes' if pred_anomaly == -1 else 'No'}\")"
   ]
  },
  {
   "cell_type": "code",
   "execution_count": null,
   "id": "973eee6e",
   "metadata": {},
   "outputs": [],
   "source": []
  }
 ],
 "metadata": {
  "kernelspec": {
   "display_name": "installingrasa",
   "language": "python",
   "name": "python3"
  },
  "language_info": {
   "codemirror_mode": {
    "name": "ipython",
    "version": 3
   },
   "file_extension": ".py",
   "mimetype": "text/x-python",
   "name": "python",
   "nbconvert_exporter": "python",
   "pygments_lexer": "ipython3",
   "version": "3.10.13"
  }
 },
 "nbformat": 4,
 "nbformat_minor": 5
}
